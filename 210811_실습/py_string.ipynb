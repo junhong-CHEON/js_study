{
 "cells": [
  {
   "cell_type": "code",
   "execution_count": 18,
   "id": "f486912e",
   "metadata": {},
   "outputs": [
    {
     "name": "stdout",
     "output_type": "stream",
     "text": [
      "문자열 : http://www.ITPAPER.CO.KR/index.php\n",
      "문자열의 길이 : 34\n",
      "두번째 글자 : t\n",
      "'/'가 처음 나타나는 위치 : 5\n",
      "'/'가 두 번째로 나타나는 위치 : 6\n",
      "'/'의 마지막 위치 : 24\n",
      "문자열 자르기 : http:\n",
      "문자열 자르기 : www.ITPAPER.CO.KR/index.php\n",
      "모든 글자의 대문자 변환 : HTTP://WWW.ITPAPER.CO.KR/INDEX.PHP\n",
      "모든 글자의 소문자 변환 : http://www.itpaper.co.kr/index.php\n"
     ]
    }
   ],
   "source": [
    "url = 'http://www.ITPAPER.CO.KR/index.php'\n",
    "print('문자열 : ' + url)\n",
    "\n",
    "length = len(url)\n",
    "print('문자열의 길이 : %d' %length)\n",
    "\n",
    "str2nd = url[1]\n",
    "print('두번째 글자 : ' + str2nd)\n",
    "\n",
    "position1 = url.find('/')\n",
    "print(\"'/'가 처음 나타나는 위치 : %d\" %position1)\n",
    "\n",
    "position2 = url.find('/', position1 + 1)\n",
    "print(\"'/'가 두 번째로 나타나는 위치 : %d\" %position2)\n",
    "\n",
    "position3 = url.rfind('/')\n",
    "print(\"'/'의 마지막 위치 : %d\" %position3)\n",
    "\n",
    "substring1 = url[0:5]\n",
    "print('문자열 자르기 : ' + substring1)\n",
    "\n",
    "substring2 = url[7:]\n",
    "print('문자열 자르기 : ' + substring2)\n",
    "\n",
    "up = url.upper()\n",
    "print('모든 글자의 대문자 변환 : ' + up)\n",
    "\n",
    "low = url.lower()\n",
    "print('모든 글자의 소문자 변환 : ' + low)"
   ]
  },
  {
   "cell_type": "code",
   "execution_count": 21,
   "id": "81f695c7",
   "metadata": {},
   "outputs": [
    {
     "name": "stdout",
     "output_type": "stream",
     "text": [
      "문자열 : http://www.itpaper.co.kr/index.php\n",
      "도메인: www.itpaper.co.kr\n",
      "파일이름: index\n",
      "확장자: php\n"
     ]
    }
   ],
   "source": [
    "url = 'http://www.itpaper.co.kr/index.php'\n",
    "print('문자열 : ' + url)\n",
    "\n",
    "p1 = url.find(\"://\")\n",
    "p2 = url.find('/', p1+3)\n",
    "domain = url[p1+3: p2]\n",
    "print('도메인: ' + domain)\n",
    "\n",
    "p3 = url.rfind('/')\n",
    "p4 = url.rfind('.')\n",
    "file = url[p3 + 1: p4]\n",
    "print('파일이름: ' + file)\n",
    "\n",
    "p5 = url.rfind('.')\n",
    "ext = url[p5+1:]\n",
    "print('확장자: ' + ext)"
   ]
  },
  {
   "cell_type": "code",
   "execution_count": null,
   "id": "b52746a4",
   "metadata": {},
   "outputs": [],
   "source": []
  }
 ],
 "metadata": {
  "kernelspec": {
   "display_name": "Python 3",
   "language": "python",
   "name": "python3"
  },
  "language_info": {
   "codemirror_mode": {
    "name": "ipython",
    "version": 3
   },
   "file_extension": ".py",
   "mimetype": "text/x-python",
   "name": "python",
   "nbconvert_exporter": "python",
   "pygments_lexer": "ipython3",
   "version": "3.8.8"
  }
 },
 "nbformat": 4,
 "nbformat_minor": 5
}
