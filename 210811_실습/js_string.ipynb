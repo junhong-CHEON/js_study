{
 "cells": [
  {
   "cell_type": "code",
   "execution_count": 20,
   "id": "0a835cc5",
   "metadata": {},
   "outputs": [
    {
     "name": "stdout",
     "output_type": "stream",
     "text": [
      "문자열 : http://www.ITPAPER.CO.KR/index.php\n",
      "문자열의 길이 : 34\n",
      "두번째 글자 : t\n",
      "'/'가 처음 나타나는 위치 : 5\n",
      "'/'가 두 번째로 나타나는 위치 : 6\n",
      "'/'의 마지막 위치 : 24\n",
      "문자열 자르기 : http:\n",
      "문자열 자르기 : www.ITPAPER.CO.KR/index.php\n",
      "모든 글자의 대문자 변환 : HTTP://WWW.ITPAPER.CO.KR/INDEX.PHP\n",
      "모든 글자의 소문자 변환 : http://www.itpaper.co.kr/index.php\n"
     ]
    }
   ],
   "source": [
    "var url = 'http://www.ITPAPER.CO.KR/index.php';\n",
    "console.log(\"문자열 : \" + url);\n",
    "\n",
    "var len = url.length;\n",
    "console.log('문자열의 길이 : ' + len);\n",
    "\n",
    "var str2nd = url.charAt(2);\n",
    "console.log('두번째 글자 : ' + str2nd);\n",
    "\n",
    "var position1 = url.indexOf('/');\n",
    "console.log(\"'/'가 처음 나타나는 위치 : \" + position1);\n",
    "\n",
    "var position2 = url.indexOf(\"/\", position1 + 1);\n",
    "console.log(\"'/'가 두 번째로 나타나는 위치 : \" + position2);\n",
    "\n",
    "var position3 = url.lastIndexOf(\"/\");\n",
    "console.log(\"'/'의 마지막 위치 : \" + position3);\n",
    "\n",
    "var substring1 = url.substring(0,5);\n",
    "console.log('문자열 자르기 : ' + substring1);\n",
    "\n",
    "var substring2 = url.substring(7);\n",
    "console.log('문자열 자르기 : ' + substring2);\n",
    "\n",
    "var up = url.toUpperCase();\n",
    "console.log('모든 글자의 대문자 변환 : ' + up);\n",
    "\n",
    "var low = url.toLowerCase();\n",
    "console.log('모든 글자의 소문자 변환 : ' + low);"
   ]
  },
  {
   "cell_type": "code",
   "execution_count": 19,
   "id": "1152d129",
   "metadata": {},
   "outputs": [
    {
     "name": "stdout",
     "output_type": "stream",
     "text": [
      "문자열 : http://www.itpaper.co.kr/index.php\n",
      "도메인: www.itpaper.co.kr\n",
      "파일이름: index\n",
      "확장자: php\n"
     ]
    }
   ],
   "source": [
    "var url = 'http://www.itpaper.co.kr/index.php';\n",
    "console.log('문자열 : ' + url);\n",
    "\n",
    "var p1 = url.indexOf('://');\n",
    "var p2 = url.indexOf('/', p1+3);\n",
    "var domain = url.substring(p1 + 3, p2);\n",
    "console.log('도메인: ' + domain);\n",
    "\n",
    "var p3 = url.lastIndexOf('/');\n",
    "var p4 = url.lastIndexOf('.');\n",
    "var file = url.substring(p3 + 1, p4);\n",
    "console.log('파일이름: ' + file);\n",
    "\n",
    "var p5 = url.lastIndexOf('.');\n",
    "var ext = url.substring(p5 + 1);\n",
    "console.log('확장자: ' + ext);"
   ]
  },
  {
   "cell_type": "code",
   "execution_count": null,
   "id": "e2beec2f",
   "metadata": {},
   "outputs": [],
   "source": []
  }
 ],
 "metadata": {
  "kernelspec": {
   "display_name": "Javascript (Node.js)",
   "language": "javascript",
   "name": "javascript"
  },
  "language_info": {
   "file_extension": ".js",
   "mimetype": "application/javascript",
   "name": "javascript",
   "version": "16.6.0"
  }
 },
 "nbformat": 4,
 "nbformat_minor": 5
}
