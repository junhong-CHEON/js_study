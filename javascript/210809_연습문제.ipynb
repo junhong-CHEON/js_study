{
 "cells": [
  {
   "cell_type": "markdown",
   "id": "61a8364d",
   "metadata": {},
   "source": [
    "# 문제 1"
   ]
  },
  {
   "cell_type": "code",
   "execution_count": 1,
   "id": "79e2cc92",
   "metadata": {},
   "outputs": [],
   "source": [
    "let exam = {\n",
    "    \"철수\": [89, 82, 79, 91],\n",
    "    \"민영\": [91, 95, 94, 89],\n",
    "    \"남철\": [65, 57, 71, 64],\n",
    "    \"혜진\": [82, 76, 81, 83]\n",
    "};"
   ]
  },
  {
   "cell_type": "code",
   "execution_count": 2,
   "id": "a9e4e394",
   "metadata": {},
   "outputs": [],
   "source": [
    "let keys = Object.keys(exam);\n",
    "let sum = 0;\n",
    "let avg = 0;"
   ]
  },
  {
   "cell_type": "code",
   "execution_count": 3,
   "id": "d49fc617",
   "metadata": {},
   "outputs": [
    {
     "name": "stdout",
     "output_type": "stream",
     "text": [
      "철수의 총점은 341점 이고 평균은 85.25점 입니다.\n",
      "민영의 총점은 369점 이고 평균은 92.25점 입니다.\n",
      "남철의 총점은 257점 이고 평균은 64.25점 입니다.\n",
      "혜진의 총점은 322점 이고 평균은 80.5점 입니다.\n"
     ]
    }
   ],
   "source": [
    "for(i = 0 ; i < keys.length; i++){\n",
    "    sum = 0\n",
    "    avg = 0\n",
    "    for (j = 0; j < exam[keys[i]].length; j ++){\n",
    "        sum += exam[keys[i]][j];\n",
    "    }\n",
    "    avg = sum/exam[keys[i]].length;\n",
    "    console.log('%s의 총점은 %d점 이고 평균은 %d점 입니다.', keys[i], sum, avg)\n",
    "}"
   ]
  },
  {
   "cell_type": "markdown",
   "id": "67875096",
   "metadata": {},
   "source": [
    "# 문제 2"
   ]
  },
  {
   "cell_type": "code",
   "execution_count": 4,
   "id": "81e3c15d",
   "metadata": {},
   "outputs": [
    {
     "name": "stdout",
     "output_type": "stream",
     "text": [
      "모든학생의 수학 총점은 325점 이고 평균은 81.25점 입니다.\n"
     ]
    }
   ],
   "source": [
    "sum = 0\n",
    "avg = 0\n",
    "\n",
    "for(i = 0 ; i < keys.length; i++){ \n",
    "    sum += exam[keys[i]][2];\n",
    "    \n",
    "}\n",
    "avg = sum/keys.length;\n",
    "console.log('모든학생의 수학 총점은 %d점 이고 평균은 %d점 입니다.',sum, avg)"
   ]
  },
  {
   "cell_type": "markdown",
   "id": "52d933fd",
   "metadata": {},
   "source": [
    "# 문제 3"
   ]
  },
  {
   "cell_type": "code",
   "execution_count": 5,
   "id": "d4a1c655",
   "metadata": {},
   "outputs": [],
   "source": [
    "let number = 1"
   ]
  },
  {
   "cell_type": "code",
   "execution_count": 6,
   "id": "8c0b1958",
   "metadata": {},
   "outputs": [
    {
     "name": "stdout",
     "output_type": "stream",
     "text": [
      "3 X 1 = 3\n",
      "3 X 2 = 6\n",
      "3 X 3 = 9\n",
      "3 X 4 = 12\n",
      "3 X 5 = 15\n",
      "3 X 6 = 18\n",
      "3 X 7 = 21\n",
      "3 X 8 = 24\n",
      "3 X 9 = 27\n",
      "5 X 1 = 5\n",
      "5 X 2 = 10\n",
      "5 X 3 = 15\n",
      "5 X 4 = 20\n",
      "5 X 5 = 25\n",
      "5 X 6 = 30\n",
      "5 X 7 = 35\n",
      "5 X 8 = 40\n",
      "5 X 9 = 45\n",
      "7 X 1 = 7\n",
      "7 X 2 = 14\n",
      "7 X 3 = 21\n",
      "7 X 4 = 28\n",
      "7 X 5 = 35\n",
      "7 X 6 = 42\n",
      "7 X 7 = 49\n",
      "7 X 8 = 56\n",
      "7 X 9 = 63\n",
      "9 X 1 = 9\n",
      "9 X 2 = 18\n",
      "9 X 3 = 27\n",
      "9 X 4 = 36\n",
      "9 X 5 = 45\n",
      "9 X 6 = 54\n",
      "9 X 7 = 63\n",
      "9 X 8 = 72\n",
      "9 X 9 = 81\n"
     ]
    }
   ],
   "source": [
    "number = 1\n",
    "for(i = 2; i < 10; i++){\n",
    "    if(i%2 == number%2){\n",
    "        for(j = 1; j < 10; j++){\n",
    "            console.log('%d X %d = %d', i,j, i*j)\n",
    "        }\n",
    "    }\n",
    "}"
   ]
  },
  {
   "cell_type": "markdown",
   "id": "f72f2cbd",
   "metadata": {},
   "source": [
    "# 문제 4"
   ]
  },
  {
   "cell_type": "code",
   "execution_count": 7,
   "id": "a7c597a2",
   "metadata": {},
   "outputs": [],
   "source": [
    "let str = ''"
   ]
  },
  {
   "cell_type": "code",
   "execution_count": 8,
   "id": "ef8d04c6",
   "metadata": {},
   "outputs": [
    {
     "name": "stdout",
     "output_type": "stream",
     "text": [
      "1\n",
      "12\n",
      "123\n",
      "1234\n",
      "12345\n",
      "123456\n",
      "1234567\n"
     ]
    }
   ],
   "source": [
    "for (i = 1; i < 8; i++){\n",
    "    str += i;\n",
    "    console.log('%s', str)\n",
    "}"
   ]
  },
  {
   "cell_type": "markdown",
   "id": "c40b8776",
   "metadata": {},
   "source": [
    "# 문제 5"
   ]
  },
  {
   "cell_type": "code",
   "execution_count": 9,
   "id": "ce709c89",
   "metadata": {},
   "outputs": [],
   "source": [
    "let check_list = [true, false, false, true, false];"
   ]
  },
  {
   "cell_type": "code",
   "execution_count": 10,
   "id": "92991e56",
   "metadata": {},
   "outputs": [
    {
     "name": "stdout",
     "output_type": "stream",
     "text": [
      "before -->true,false,false,true,false\n",
      "after -->false,true,true,false,true\n"
     ]
    }
   ],
   "source": [
    "check_list = [true, false, false, true, false];\n",
    "console.log('before -->' + check_list);\n",
    "\n",
    "for (i = 0; i < check_list.length; i++){\n",
    "    check_list[i] = Boolean(check_list[i] ^ true);\n",
    "}\n",
    "\n",
    "console.log('after -->' + check_list);"
   ]
  },
  {
   "cell_type": "markdown",
   "id": "bff1389b",
   "metadata": {},
   "source": [
    "# 문제 6"
   ]
  },
  {
   "cell_type": "code",
   "execution_count": 11,
   "id": "092a669f",
   "metadata": {},
   "outputs": [
    {
     "data": {
      "text/plain": [
       "0"
      ]
     },
     "execution_count": 11,
     "metadata": {},
     "output_type": "execute_result"
    }
   ],
   "source": [
    "let grade = [75,82, 91];\n",
    "sum = 0;\n",
    "avg = 0;"
   ]
  },
  {
   "cell_type": "code",
   "execution_count": 12,
   "id": "1266f543",
   "metadata": {},
   "outputs": [
    {
     "name": "stdout",
     "output_type": "stream",
     "text": [
      "총점: 248점 평균점수: 82.67점\n"
     ]
    }
   ],
   "source": [
    "sum = 0;\n",
    "avg = 0;\n",
    "for (i = 0; i < grade.length; i++){\n",
    "    sum += grade[i];\n",
    "}\n",
    "\n",
    "avg = sum/grade.length;\n",
    "\n",
    "avg = avg.toFixed(2);\n",
    "console.log('총점: ' + sum + '점 평균점수: ' + avg + '점');"
   ]
  },
  {
   "cell_type": "markdown",
   "id": "c4584cac",
   "metadata": {},
   "source": [
    "# 문제 7"
   ]
  },
  {
   "cell_type": "code",
   "execution_count": 13,
   "id": "9bacc121",
   "metadata": {},
   "outputs": [],
   "source": [
    "let time = [];\n",
    "let money;"
   ]
  },
  {
   "cell_type": "code",
   "execution_count": 14,
   "id": "faf0d1ef",
   "metadata": {},
   "outputs": [
    {
     "name": "stdout",
     "output_type": "stream",
     "text": [
      "1주일간의 전체 급여: 213400원\n"
     ]
    }
   ],
   "source": [
    "time = [7,5,5,5,5,10,7];\n",
    "money = 0;\n",
    "\n",
    "for (i = 0; i < time.length; i++){\n",
    "    if ( i < 4 ){\n",
    "        money += time[i] * 4500;\n",
    "    }\n",
    "    else{\n",
    "        money += time[i] * 5200;\n",
    "    }\n",
    "}\n",
    "console.log('1주일간의 전체 급여: ' + money + '원');"
   ]
  },
  {
   "cell_type": "markdown",
   "id": "da1f71ca",
   "metadata": {},
   "source": [
    "# 문제 8"
   ]
  },
  {
   "cell_type": "code",
   "execution_count": 15,
   "id": "7ce616a5",
   "metadata": {},
   "outputs": [],
   "source": [
    "let price = [];\n",
    "let qty = [];"
   ]
  },
  {
   "cell_type": "code",
   "execution_count": 16,
   "id": "4a2d677c",
   "metadata": {},
   "outputs": [
    {
     "name": "stdout",
     "output_type": "stream",
     "text": [
      "전체 결재 금액: 451200원\n"
     ]
    }
   ],
   "source": [
    "price = [38000, 20000, 17900, 17900];\n",
    "qty = [6, 4, 3, 5];\n",
    "money = 0;\n",
    "\n",
    "for(i = 0; i < price.length; i++){\n",
    "    money += price[i] * qty[i];\n",
    "}\n",
    "\n",
    "console.log('전체 결재 금액: ' + money + '원');"
   ]
  },
  {
   "cell_type": "markdown",
   "id": "f48a393a",
   "metadata": {},
   "source": [
    "# 문제 9"
   ]
  },
  {
   "cell_type": "code",
   "execution_count": 17,
   "id": "615e29b7",
   "metadata": {},
   "outputs": [],
   "source": [
    "let top_price = 0;"
   ]
  },
  {
   "cell_type": "code",
   "execution_count": 18,
   "id": "c83bc46a",
   "metadata": {},
   "outputs": [
    {
     "name": "stdout",
     "output_type": "stream",
     "text": [
      "가장 높은 상품금액: 228000\n"
     ]
    }
   ],
   "source": [
    "top_price = 0;\n",
    "\n",
    "for(i = 0; i < price.length; i++){\n",
    "    if(price[i] * qty[i] > top_price){\n",
    "        top_price = price[i] * qty[i];\n",
    "    }\n",
    "}\n",
    "\n",
    "console.log('가장 높은 상품금액: ' + top_price)"
   ]
  },
  {
   "cell_type": "markdown",
   "id": "3df18e77",
   "metadata": {},
   "source": [
    "# 문제 10"
   ]
  },
  {
   "cell_type": "code",
   "execution_count": 19,
   "id": "7cf790af",
   "metadata": {},
   "outputs": [],
   "source": [
    "let count_free = 0"
   ]
  },
  {
   "cell_type": "code",
   "execution_count": 20,
   "id": "83345a7a",
   "metadata": {},
   "outputs": [
    {
     "name": "stdout",
     "output_type": "stream",
     "text": [
      "무료배송 항목: 3\n"
     ]
    }
   ],
   "source": [
    "count_free = 0;\n",
    "\n",
    "for(i = 0; i < price.length; i++){\n",
    "    if(price[i] * qty[i] >= 80000){\n",
    "        count_free++;\n",
    "    }\n",
    "}\n",
    "\n",
    "console.log('무료배송 항목: ' + count_free)"
   ]
  },
  {
   "cell_type": "markdown",
   "id": "d57abe55",
   "metadata": {},
   "source": [
    "# 문제 11"
   ]
  },
  {
   "cell_type": "code",
   "execution_count": 21,
   "id": "28c140eb",
   "metadata": {},
   "outputs": [],
   "source": [
    "let tmp = 0;"
   ]
  },
  {
   "cell_type": "code",
   "execution_count": 22,
   "id": "52f7d1e5",
   "metadata": {},
   "outputs": [
    {
     "name": "stdout",
     "output_type": "stream",
     "text": [
      "상품가격 -->209000,109000,119000,109000,94000\n",
      "낮은가격순 -->94000,109000,109000,119000,209000\n"
     ]
    }
   ],
   "source": [
    "price = [209000,109000,119000,109000,94000];\n",
    "console.log('상품가격 -->' + price);\n",
    "\n",
    "for (i = 0; i < price.length - 1; i++){\n",
    "    for (j = i + 1; j < price.length; j++){\n",
    "        if (price[i] > price[j]) {\n",
    "            tmp = price[i];\n",
    "            price[i] = price[j];\n",
    "            price[j] = tmp;\n",
    "        }\n",
    "    }\n",
    "}\n",
    "\n",
    "console.log('낮은가격순 -->' + price);"
   ]
  },
  {
   "cell_type": "markdown",
   "id": "5959d92f",
   "metadata": {},
   "source": [
    "# 문제 12"
   ]
  },
  {
   "cell_type": "code",
   "execution_count": 23,
   "id": "65655e9c",
   "metadata": {},
   "outputs": [],
   "source": [
    "let arr = [];"
   ]
  },
  {
   "cell_type": "code",
   "execution_count": 24,
   "id": "5b1a93c7",
   "metadata": {},
   "outputs": [
    {
     "name": "stdout",
     "output_type": "stream",
     "text": [
      "before -->5,3,2,8,9\n",
      "after -->9,8,2,3,5\n"
     ]
    }
   ],
   "source": [
    "arr = [5, 3, 2, 8, 9];\n",
    "console.log('before -->' + arr);\n",
    "\n",
    "for (i = 0; i < arr.length/2; i++){\n",
    "    tmp = arr[i];\n",
    "    arr[i] = arr[(arr.length-1) - i];\n",
    "    arr[(arr.length-1) - i] = tmp;\n",
    "}\n",
    "\n",
    "console.log('after -->' + arr);"
   ]
  },
  {
   "cell_type": "markdown",
   "id": "36b8a7a6",
   "metadata": {},
   "source": [
    "# 문제 13"
   ]
  },
  {
   "cell_type": "code",
   "execution_count": 25,
   "id": "ea6cc0fe",
   "metadata": {},
   "outputs": [
    {
     "data": {
      "text/plain": [
       "[ [ 78, 89, 96 ], [ 62, 77, 67 ], [ 54, 90, 80 ], [ 100, 99, 98 ] ]"
      ]
     },
     "execution_count": 25,
     "metadata": {},
     "output_type": "execute_result"
    }
   ],
   "source": [
    "student = ['둘리','도우너','또치','희동'];\n",
    "grade = [\n",
    "    [78, 89, 96],\n",
    "    [62, 77, 67],\n",
    "    [54, 90, 80],\n",
    "    [100, 99, 98]\n",
    "];"
   ]
  },
  {
   "cell_type": "code",
   "execution_count": 26,
   "id": "aac1b8cf",
   "metadata": {},
   "outputs": [
    {
     "name": "stdout",
     "output_type": "stream",
     "text": [
      "둘리총점: 263점, 평균: 87.67점\n",
      "도우너총점: 206점, 평균: 68.67점\n",
      "또치총점: 224점, 평균: 74.67점\n",
      "희동총점: 297점, 평균: 99.00점\n"
     ]
    }
   ],
   "source": [
    "for (i = 0; i < student.length; i++){\n",
    "    sum = 0; \n",
    "    avg = 0;\n",
    "    for (j = 0; j < grade[i].length; j ++){\n",
    "        sum += grade[i][j];\n",
    "    }\n",
    "    avg = sum/grade[i].length;\n",
    "    avg = avg.toFixed(2);\n",
    "    console.log(student[i] + '총점: ' + sum + '점, 평균: ' + avg + '점');\n",
    "}"
   ]
  },
  {
   "cell_type": "markdown",
   "id": "2728b417",
   "metadata": {},
   "source": [
    "# 문제 14"
   ]
  },
  {
   "cell_type": "code",
   "execution_count": 27,
   "id": "206d1c58",
   "metadata": {},
   "outputs": [],
   "source": [
    "let total_avg = 0;"
   ]
  },
  {
   "cell_type": "code",
   "execution_count": 28,
   "id": "78c32a16",
   "metadata": {},
   "outputs": [
    {
     "name": "stdout",
     "output_type": "stream",
     "text": [
      "둘리총점: 263점, 평균: 87.67점\n",
      "도우너총점: 206점, 평균: 68.67점\n",
      "또치총점: 224점, 평균: 74.67점\n",
      "희동총점: 297점, 평균: 99.00점\n",
      "반평균=82.5\n"
     ]
    }
   ],
   "source": [
    "for (i = 0; i < student.length; i++){\n",
    "    sum = 0; \n",
    "    avg = 0;\n",
    "    for (j = 0; j < grade[i].length; j ++){\n",
    "        sum += grade[i][j];\n",
    "    }\n",
    "    avg = sum/grade[i].length;\n",
    "    total_avg += avg;\n",
    "    avg = avg.toFixed(2);\n",
    "    console.log(student[i] + '총점: ' + sum + '점, 평균: ' + avg + '점');\n",
    "}\n",
    "total_avg = total_avg/student.length;\n",
    "console.log('반평균=' + total_avg)"
   ]
  },
  {
   "cell_type": "markdown",
   "id": "e7a7bd74",
   "metadata": {},
   "source": [
    "# 문제 15"
   ]
  },
  {
   "cell_type": "code",
   "execution_count": 29,
   "id": "a3cd7768",
   "metadata": {},
   "outputs": [],
   "source": [
    "let value = [];"
   ]
  },
  {
   "cell_type": "code",
   "execution_count": 30,
   "id": "2cc0f3bb",
   "metadata": {},
   "outputs": [
    {
     "name": "stdout",
     "output_type": "stream",
     "text": [
      "아이템 총 판매가격: 404816.4G\n"
     ]
    }
   ],
   "source": [
    "value = [[500, 291], [320, 586], [100, 460], [120, 558], [92, 18], [30, 72]];\n",
    "sum = 0;\n",
    "\n",
    "for(i = 0; i < value.length; i++){\n",
    "    sum += (value[i][0] * value[i][1]) * 0.9;\n",
    "}\n",
    "\n",
    "console.log('아이템 총 판매가격: ' + sum + 'G');"
   ]
  },
  {
   "cell_type": "markdown",
   "id": "2f9e7782",
   "metadata": {},
   "source": [
    "# 문제 16"
   ]
  },
  {
   "cell_type": "code",
   "execution_count": 31,
   "id": "37f78f81",
   "metadata": {},
   "outputs": [
    {
     "data": {
      "text/plain": [
       "'안녕하세요. javascript 수업시간 입니다.'"
      ]
     },
     "execution_count": 31,
     "metadata": {},
     "output_type": "execute_result"
    }
   ],
   "source": [
    "str ='안녕하세요. javascript 수업시간 입니다.'"
   ]
  },
  {
   "cell_type": "code",
   "execution_count": 32,
   "id": "157068c2",
   "metadata": {},
   "outputs": [
    {
     "name": "stdout",
     "output_type": "stream",
     "text": [
      "s가 나타나는 위치: 11\n"
     ]
    }
   ],
   "source": [
    "for(i = 0; i < str.length; i++){\n",
    "    if(str[i] == 's'){\n",
    "        console.log('s가 나타나는 위치: ' + i)\n",
    "    }\n",
    "}"
   ]
  },
  {
   "cell_type": "code",
   "execution_count": null,
   "id": "8bd06d81",
   "metadata": {},
   "outputs": [],
   "source": []
  },
  {
   "cell_type": "code",
   "execution_count": null,
   "id": "e2126fd0",
   "metadata": {},
   "outputs": [],
   "source": []
  }
 ],
 "metadata": {
  "kernelspec": {
   "display_name": "Javascript (Node.js)",
   "language": "javascript",
   "name": "javascript"
  },
  "language_info": {
   "file_extension": ".js",
   "mimetype": "application/javascript",
   "name": "javascript",
   "version": "16.6.0"
  }
 },
 "nbformat": 4,
 "nbformat_minor": 5
}
