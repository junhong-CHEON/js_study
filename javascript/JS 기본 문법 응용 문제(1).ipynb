{
 "cells": [
  {
   "cell_type": "markdown",
   "metadata": {},
   "source": [
    "# JS 기본 문법 응용 문제 (1)"
   ]
  },
  {
   "cell_type": "markdown",
   "metadata": {},
   "source": [
    "----\n",
    "\n",
    "## 문제1\n",
    "\n",
    "2~10 사이의 숫자 x, y를 할당하고 후 1부터 100까지의 자연수 중에서 x와 y의 공배수를 모두 출력하고 총 합이 얼마인지 출력하시오."
   ]
  },
  {
   "cell_type": "code",
   "execution_count": 33,
   "metadata": {},
   "outputs": [
    {
     "name": "stdout",
     "output_type": "stream",
     "text": [
      "12\n",
      "24\n",
      "36\n",
      "48\n",
      "60\n",
      "72\n",
      "84\n",
      "96\n",
      "공배수의 합 :432\n"
     ]
    }
   ],
   "source": [
    "var x = 4;\n",
    "var y = 6;\n",
    "var sum = 0;\n",
    "\n",
    "for(var i = 1; i <= 100; i++){\n",
    "    if(i % 4 == 0 && i % 6 == 0){\n",
    "        console.log(i);\n",
    "        sum += i;\n",
    "    }\n",
    "}\n",
    "console.log('공배수의 합 :' + sum);"
   ]
  },
  {
   "cell_type": "markdown",
   "metadata": {},
   "source": [
    "---\n",
    "\n",
    "## 문제2\n",
    "\n",
    "하나의 정수 x를 정의하고 x개의 행을 출력하는 별찍기 프로그램을 작성하시오.\n",
    "\n",
    "- 첫 번째 행은 1개의 별을 출력하고, \n",
    "- 두 번재 행은 2개의 별을 출력하고,\n",
    "- x 번째 행은 x개의 별을 출력합니다."
   ]
  },
  {
   "cell_type": "code",
   "execution_count": 13,
   "metadata": {},
   "outputs": [
    {
     "name": "stdout",
     "output_type": "stream",
     "text": [
      "*\n",
      "**\n",
      "***\n",
      "****\n",
      "*****\n",
      "******\n"
     ]
    }
   ],
   "source": [
    "var x = 6;\n",
    "var str = '';\n",
    "for(var i = 1; i <= x; i++){\n",
    "    str = '';\n",
    "    for(var j = 1; j <= i; j++){\n",
    "        str += '*';\n",
    "    }\n",
    "    console.log(str);\n",
    "}"
   ]
  },
  {
   "cell_type": "markdown",
   "metadata": {},
   "source": [
    "----\n",
    "\n",
    "## 문제3\n",
    "\n",
    "각 과목의 점수를 data라는 이름의 배열로 정의한 후 총점과 평균을 구해 출력하시오.\n",
    "\n",
    "data 배열 안에는 n개의 점수가 포함됩니다. (n은 각자 임의로 정의)"
   ]
  },
  {
   "cell_type": "code",
   "execution_count": 34,
   "metadata": {},
   "outputs": [
    {
     "name": "stdout",
     "output_type": "stream",
     "text": [
      "총점 : 20, 평균 : 4\n"
     ]
    }
   ],
   "source": [
    "var data = [2,6,8,3,1];\n",
    "var sum = 0;\n",
    "\n",
    "for(var i = 0; i < data.length; i++){\n",
    "    sum += data[i];\n",
    "}\n",
    "\n",
    "console.log('총점 : ' + sum + ', 평균 : ' + sum/data.length);"
   ]
  },
  {
   "cell_type": "markdown",
   "metadata": {},
   "source": [
    "---\n",
    "\n",
    "## 문제4\n",
    "\n",
    "`n`개의 숫자를 원소로 갖는 임의의 배열을 정의하고 최소값을 구해 출력하는 프로그램을 완성하시오."
   ]
  },
  {
   "cell_type": "code",
   "execution_count": 35,
   "metadata": {},
   "outputs": [
    {
     "name": "stdout",
     "output_type": "stream",
     "text": [
      "최솟값 : 1\n"
     ]
    }
   ],
   "source": [
    "var array = [6,2,4,8,1];\n",
    "var min = 0;\n",
    "\n",
    "for(var i = 0; i < array.length; i++){\n",
    "    if ( i == 0 ){\n",
    "        min = array[i];\n",
    "    }\n",
    "    else if(array[i] < min){\n",
    "        min = array[i];\n",
    "    }\n",
    "}\n",
    "\n",
    "console.log('최솟값 : ' + min);"
   ]
  },
  {
   "cell_type": "markdown",
   "metadata": {},
   "source": [
    "---\n",
    "\n",
    "## 문제5\n",
    "\n",
    "`n`개의 숫자를 원소로 갖는 배열에 대해 내림차순으로 정렬후 출력하시오."
   ]
  },
  {
   "cell_type": "code",
   "execution_count": 36,
   "metadata": {},
   "outputs": [
    {
     "name": "stdout",
     "output_type": "stream",
     "text": [
      "정렬전 : 6,2,3,1,6,2,7,8,9\n",
      "정렬후 : 9,8,7,6,6,3,2,2,1\n"
     ]
    }
   ],
   "source": [
    "var array = [6,2,3,1,6,2,7,8,9];\n",
    "\n",
    "console.log('정렬전 : ' + array);\n",
    "for ( var i = 0; i < array.length - 1; i ++){\n",
    "    for ( var j = i + 1; j < array.length; j++){\n",
    "        if(array[i] < array[j]){\n",
    "            var tmp = array[i];\n",
    "            array[i] = array[j];\n",
    "            array[j] = tmp;\n",
    "        }\n",
    "    }\n",
    "}\n",
    "\n",
    "console.log('정렬후 : ' + array);"
   ]
  },
  {
   "cell_type": "markdown",
   "metadata": {},
   "source": [
    "### 문제6\n",
    "\n",
    "아래와 같은 출력 결과가 나타나도록 중첩 반복문을 for 문 형식으로 구현하시오.\n",
    "\n",
    "```\n",
    "1\n",
    "12\n",
    "123\n",
    "1234\n",
    "12345\n",
    "123456\n",
    "1234567\n",
    "```"
   ]
  },
  {
   "cell_type": "code",
   "execution_count": 37,
   "metadata": {},
   "outputs": [
    {
     "name": "stdout",
     "output_type": "stream",
     "text": [
      "1\n",
      "12\n",
      "123\n",
      "1234\n",
      "12345\n",
      "123456\n",
      "1234567\n",
      "12345678\n",
      "123456789\n"
     ]
    }
   ],
   "source": [
    "var x = 9;\n",
    "var str = '';\n",
    "\n",
    "for(var i = 1; i <= x; i++){\n",
    "    str += i;\n",
    "    console.log(str);\n",
    "}"
   ]
  },
  {
   "cell_type": "markdown",
   "metadata": {},
   "source": [
    "---\n",
    "\n",
    "## 문제 5.\n",
    "\n",
    "유효한 주민등록번호인지 아닌지를 판별하는 코드를 짜보자. 판별 방법은 아래와 같다.\n",
    "\n",
    "- 기본 주민등록코드에는 각 숫자에 대응하는 가중치가 있다. 가중치는 주민등록번호의 순서에 따라 `2 3 4 5 6 7 8 9 2 3 4 5` 이다.\n",
    "- 먼저 마지막 숫자는 제외하고, 기본코드의 각 12자리와 가중치를 모두 곱하여 합한다.\n",
    "- 합한 값을 11로 나눈 나머지 값을 구한다.\n",
    "- 11에서 그 나머지 값을 뺀 후, 이를 10을 나눈 나머지를 구한다.\n",
    "- 나머지의 1의 자리 값과 주민등록번호 마지막 자리 값이 맞아야 유효한 주민등록번호이다."
   ]
  },
  {
   "cell_type": "code",
   "execution_count": 32,
   "metadata": {},
   "outputs": [
    {
     "name": "stdout",
     "output_type": "stream",
     "text": [
      "유효하지 않은 주민번호 입니다.\n"
     ]
    }
   ],
   "source": [
    "var weight = [2,3,4,5,6,7,8,9,2,3,4,5];\n",
    "var jumin = [8,6,8,7,5,0,4,1,3,5,6,4,4,8]; //임의의 주민번호\n",
    "\n",
    "var sum = 0;\n",
    "\n",
    "for(var i = 0; i < weight.length; i++){\n",
    "        sum += weight[i] * jumin[i];\n",
    "}\n",
    "\n",
    "var tmp = sum%11;\n",
    "var tmp_2 = (11 - tmp)%10;\n",
    "\n",
    "if (tmp_2%10 == jumin[12]){\n",
    "    console.log('유효한 주민번호 입니다.');\n",
    "}\n",
    "else {\n",
    "    console.log('유효하지 않은 주민번호 입니다.');\n",
    "}"
   ]
  },
  {
   "cell_type": "code",
   "execution_count": null,
   "metadata": {},
   "outputs": [],
   "source": []
  }
 ],
 "metadata": {
  "kernelspec": {
   "display_name": "Javascript (Node.js)",
   "language": "javascript",
   "name": "javascript"
  },
  "language_info": {
   "file_extension": ".js",
   "mimetype": "application/javascript",
   "name": "javascript",
   "version": "16.6.0"
  }
 },
 "nbformat": 4,
 "nbformat_minor": 4
}
